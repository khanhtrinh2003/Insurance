{
 "cells": [
  {
   "cell_type": "code",
   "execution_count": 1,
   "metadata": {},
   "outputs": [],
   "source": [
    "from vnins import*"
   ]
  },
  {
   "cell_type": "code",
   "execution_count": 5,
   "metadata": {},
   "outputs": [
    {
     "data": {
      "text/plain": [
       "array([303])"
      ]
     },
     "execution_count": 5,
     "metadata": {},
     "output_type": "execute_result"
    }
   ],
   "source": [
    "random_negative_binomial(80,0.2,1)"
   ]
  },
  {
   "cell_type": "code",
   "execution_count": 6,
   "metadata": {},
   "outputs": [
    {
     "name": "stdout",
     "output_type": "stream",
     "text": [
      "Std:  1474.262195015592\n"
     ]
    }
   ],
   "source": [
    "n=random_negative_binomial(80,0.2,1000000)\n",
    "res=[]\n",
    "for i in n:\n",
    "    res.append(np.sum(random_discrete([10,30,50,100],[0.3,0.4,0.2,0.1],i)))\n",
    "res=np.array(res)\n",
    "print('Std: ',np.std(res))"
   ]
  },
  {
   "cell_type": "code",
   "execution_count": 10,
   "metadata": {},
   "outputs": [],
   "source": [
    "a=random_pareto(3,60,100000)\n",
    "b=random_exponential(30,100000)"
   ]
  }
 ],
 "metadata": {
  "kernelspec": {
   "display_name": "VNQuant",
   "language": "python",
   "name": "python3"
  },
  "language_info": {
   "codemirror_mode": {
    "name": "ipython",
    "version": 3
   },
   "file_extension": ".py",
   "mimetype": "text/x-python",
   "name": "python",
   "nbconvert_exporter": "python",
   "pygments_lexer": "ipython3",
   "version": "3.10.13"
  }
 },
 "nbformat": 4,
 "nbformat_minor": 2
}
