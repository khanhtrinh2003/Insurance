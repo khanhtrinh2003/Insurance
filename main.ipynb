{
 "cells": [
  {
   "cell_type": "markdown",
   "metadata": {},
   "source": [
    "- Sheet 1: DOANH THU PHÍ BẢO HIỂM CỦA TOÀN THỊ TRƯỜNG\t\t\t\t\t\n",
    "- Sheet 2: TỐC ĐỘ TĂNG TRƯỞNG PHÍ  BẢO HIỂM GỐC THEO NGHIỆP VỤ BẢO HIỂM CỦA TOÀN THỊ TRƯỜNG\t\t\t\t\t\n",
    "- Sheet 3: DOANH THU PHÍ BẢO HIỂM CỦA TỪNG DOANH NGHIỆP\t\t\n",
    "- Sheet 4: TĂNG TRƯỞNG PHÍ BẢO HIỂM GỐC VÀ THỊ PHẦN CỦA CÁC DOANH NGHIỆP\t\t\t\t\t\n",
    "- Sheet 5: BỒI THƯỜNG BẢO HIỂM THEO NGHIỆP VỤ CỦA  TOÀN THỊ TRƯỜNG\t \n",
    "- Sheet 6: BỒI THƯỜNG BẢO HIỂM CỦA TỪNG DOANH NGHIỆP\t\t\t\n",
    "- Sheet 7: TỈ LỆ BỒI THƯỜNG BẢO HIỂM GỐC CỦA TỪNG DOANH NGHIỆP\t\n",
    "- Sheet 8: BẢO HIỂM SỨC KHỎE \t\n",
    "- Sheet 9: BẢO HIỂM TÀI SẢN VÀ THIỆT HẠI\t\t\t\t\n",
    "- Sheet 10: BẢO HIỂM HÀNG HÓA VẬN CHUYỂN\t\t\t\t\n",
    "- Sheet 11: BẢO HIỂM HÀNG KHÔNG\t\t\t\t\t\t\n",
    "- Sheet 12: BẢO HIỂM XE CƠ GIỚI\t\n",
    "- Sheet 13: BẢO HIỂM BẮT BUỘC TRÁCH NHIỆM DÂN SỰ CHỦ XE CƠ GIỚI \n",
    "- Sheet 14: BẢO HIỂM CHÁY NỔ\t\t\n",
    "- Sheet 15: BẢO HIỂM CHÁY NỔ BẮT BUỘC\t\t\n",
    "- Sheet 16: BẢO HIỂM THÂN TÀU VÀ TNDS CHỦ TÀU\t\t\n",
    "- Sheet 17: BẢO HIỂM TRÁCH NHIỆM \t\n",
    "- Sheet 18: BẢO HIỂM TÍN DỤNG VÀ RỦI RO TÀI CHÍNH\t\n",
    "- Sheet 19: BẢO HIỂM THIỆT HẠI KINH DOANH\t\n",
    "- Sheet 20: BẢO HIỂM NÔNG NGHIỆP\t\t\t\n",
    "- Sheet 21: TỈ LỆ BỒI THƯỜNG THUỘC TRÁCH NHIỆM (INCURRED LOSS RATIO)"
   ]
  },
  {
   "cell_type": "code",
   "execution_count": 1,
   "metadata": {},
   "outputs": [],
   "source": [
    "from read_data import *\n",
    "import pandas as pd\n",
    "import openpyxl"
   ]
  },
  {
   "cell_type": "code",
   "execution_count": 7,
   "metadata": {},
   "outputs": [],
   "source": [
    "insur_revenue=pd.concat([s3_21[['Doanh thu phí bảo hiểm gốc\\nDirect premium\\n']].T,\n",
    "           s3_20[['Doanh thu phí bảo hiểm gốc\\nDirect premium\\n']].T,\n",
    "           s3_19[['Doanh thu phí bảo hiểm gốc\\nDirect premium\\n']].T,\n",
    "           s3_18[['Doanh thu phí bảo hiểm gốc\\nDirect premium\\n']].T,\n",
    "           s3_17[['Doanh thu phí bảo hiểm gốc\\nDirect premium\\n']].T])"
   ]
  },
  {
   "cell_type": "code",
   "execution_count": 11,
   "metadata": {},
   "outputs": [],
   "source": [
    "insur_revenue.index=[f'{i}-01-01' for i in range(2021,2016,-1)]"
   ]
  },
  {
   "cell_type": "code",
   "execution_count": 14,
   "metadata": {},
   "outputs": [
    {
     "data": {
      "text/html": [
       "<div>\n",
       "<style scoped>\n",
       "    .dataframe tbody tr th:only-of-type {\n",
       "        vertical-align: middle;\n",
       "    }\n",
       "\n",
       "    .dataframe tbody tr th {\n",
       "        vertical-align: top;\n",
       "    }\n",
       "\n",
       "    .dataframe thead th {\n",
       "        text-align: right;\n",
       "    }\n",
       "</style>\n",
       "<table border=\"1\" class=\"dataframe\">\n",
       "  <thead>\n",
       "    <tr style=\"text-align: right;\">\n",
       "      <th>Doanh nghiệp\n",
       "Companies</th>\n",
       "      <th>Chubb</th>\n",
       "      <th>AIG</th>\n",
       "      <th>Bảo Long</th>\n",
       "      <th>Bảo Minh</th>\n",
       "      <th>VBI</th>\n",
       "      <th>ABIC</th>\n",
       "      <th>Phú Hưng</th>\n",
       "      <th>Bảo Việt</th>\n",
       "      <th>BIC</th>\n",
       "      <th>Cathay</th>\n",
       "      <th>...</th>\n",
       "      <th>BSH</th>\n",
       "      <th>Xuân Thành</th>\n",
       "      <th>GIC</th>\n",
       "      <th>TMIV</th>\n",
       "      <th>VASS</th>\n",
       "      <th>Bảo lãnh Seoul</th>\n",
       "      <th>HDI</th>\n",
       "      <th>Tổng</th>\n",
       "      <th>OPES</th>\n",
       "      <th>BVTM</th>\n",
       "    </tr>\n",
       "  </thead>\n",
       "  <tbody>\n",
       "    <tr>\n",
       "      <th>2021-01-01</th>\n",
       "      <td>300160.0</td>\n",
       "      <td>461451.0</td>\n",
       "      <td>1237060.0</td>\n",
       "      <td>4496392.0</td>\n",
       "      <td>2307358.0</td>\n",
       "      <td>1957311.0</td>\n",
       "      <td>63925.96</td>\n",
       "      <td>8949205.0</td>\n",
       "      <td>2678961.0</td>\n",
       "      <td>421363.0</td>\n",
       "      <td>...</td>\n",
       "      <td>2691250.0</td>\n",
       "      <td>582066.0</td>\n",
       "      <td>1550919.22</td>\n",
       "      <td>752683.0</td>\n",
       "      <td>964642.0</td>\n",
       "      <td>28374.0</td>\n",
       "      <td>263699.6</td>\n",
       "      <td>57878584.56</td>\n",
       "      <td>NaN</td>\n",
       "      <td>NaN</td>\n",
       "    </tr>\n",
       "    <tr>\n",
       "      <th>2020-01-01</th>\n",
       "      <td>154192.0</td>\n",
       "      <td>406127.0</td>\n",
       "      <td>892990.0</td>\n",
       "      <td>3395912.0</td>\n",
       "      <td>889718.0</td>\n",
       "      <td>1235110.0</td>\n",
       "      <td>115763.00</td>\n",
       "      <td>8050894.0</td>\n",
       "      <td>1594278.0</td>\n",
       "      <td>203619.0</td>\n",
       "      <td>...</td>\n",
       "      <td>601604.0</td>\n",
       "      <td>266524.0</td>\n",
       "      <td>1151012.00</td>\n",
       "      <td>452367.0</td>\n",
       "      <td>2573375.0</td>\n",
       "      <td>25243.0</td>\n",
       "      <td>NaN</td>\n",
       "      <td>41344055.00</td>\n",
       "      <td>0.0</td>\n",
       "      <td>NaN</td>\n",
       "    </tr>\n",
       "    <tr>\n",
       "      <th>2019-01-01</th>\n",
       "      <td>225561.0</td>\n",
       "      <td>400403.0</td>\n",
       "      <td>1136747.0</td>\n",
       "      <td>3874338.0</td>\n",
       "      <td>1891597.0</td>\n",
       "      <td>1742509.0</td>\n",
       "      <td>74091.00</td>\n",
       "      <td>10297042.0</td>\n",
       "      <td>2013129.0</td>\n",
       "      <td>337984.0</td>\n",
       "      <td>...</td>\n",
       "      <td>1472995.0</td>\n",
       "      <td>374691.0</td>\n",
       "      <td>1382208.00</td>\n",
       "      <td>NaN</td>\n",
       "      <td>2732075.0</td>\n",
       "      <td>29134.0</td>\n",
       "      <td>NaN</td>\n",
       "      <td>52842223.00</td>\n",
       "      <td>NaN</td>\n",
       "      <td>643854.0</td>\n",
       "    </tr>\n",
       "    <tr>\n",
       "      <th>2018-01-01</th>\n",
       "      <td>151934.0</td>\n",
       "      <td>524832.0</td>\n",
       "      <td>767364.0</td>\n",
       "      <td>3101986.0</td>\n",
       "      <td>707830.0</td>\n",
       "      <td>1096103.0</td>\n",
       "      <td>98150.00</td>\n",
       "      <td>6621927.0</td>\n",
       "      <td>1476405.0</td>\n",
       "      <td>177543.0</td>\n",
       "      <td>...</td>\n",
       "      <td>460403.0</td>\n",
       "      <td>273671.0</td>\n",
       "      <td>702891.00</td>\n",
       "      <td>NaN</td>\n",
       "      <td>1978726.0</td>\n",
       "      <td>27200.0</td>\n",
       "      <td>NaN</td>\n",
       "      <td>36996712.00</td>\n",
       "      <td>NaN</td>\n",
       "      <td>421195.0</td>\n",
       "    </tr>\n",
       "    <tr>\n",
       "      <th>2017-01-01</th>\n",
       "      <td>154192.0</td>\n",
       "      <td>406127.0</td>\n",
       "      <td>892990.0</td>\n",
       "      <td>3395912.0</td>\n",
       "      <td>889718.0</td>\n",
       "      <td>1235110.0</td>\n",
       "      <td>115763.00</td>\n",
       "      <td>8050894.0</td>\n",
       "      <td>1594278.0</td>\n",
       "      <td>203619.0</td>\n",
       "      <td>...</td>\n",
       "      <td>601604.0</td>\n",
       "      <td>266524.0</td>\n",
       "      <td>1151012.00</td>\n",
       "      <td>NaN</td>\n",
       "      <td>2573375.0</td>\n",
       "      <td>25243.0</td>\n",
       "      <td>NaN</td>\n",
       "      <td>41344055.00</td>\n",
       "      <td>NaN</td>\n",
       "      <td>452367.0</td>\n",
       "    </tr>\n",
       "  </tbody>\n",
       "</table>\n",
       "<p>5 rows × 34 columns</p>\n",
       "</div>"
      ],
      "text/plain": [
       "Doanh nghiệp\n",
       "Companies     Chubb       AIG   Bảo Long   Bảo Minh        VBI  \\\n",
       "2021-01-01              300160.0  461451.0  1237060.0  4496392.0  2307358.0   \n",
       "2020-01-01              154192.0  406127.0   892990.0  3395912.0   889718.0   \n",
       "2019-01-01              225561.0  400403.0  1136747.0  3874338.0  1891597.0   \n",
       "2018-01-01              151934.0  524832.0   767364.0  3101986.0   707830.0   \n",
       "2017-01-01              154192.0  406127.0   892990.0  3395912.0   889718.0   \n",
       "\n",
       "Doanh nghiệp\n",
       "Companies       ABIC   Phú Hưng    Bảo Việt        BIC    Cathay  \\\n",
       "2021-01-01              1957311.0   63925.96   8949205.0  2678961.0  421363.0   \n",
       "2020-01-01              1235110.0  115763.00   8050894.0  1594278.0  203619.0   \n",
       "2019-01-01              1742509.0   74091.00  10297042.0  2013129.0  337984.0   \n",
       "2018-01-01              1096103.0   98150.00   6621927.0  1476405.0  177543.0   \n",
       "2017-01-01              1235110.0  115763.00   8050894.0  1594278.0  203619.0   \n",
       "\n",
       "Doanh nghiệp\n",
       "Companies  ...        BSH  Xuân Thành         GIC      TMIV  \\\n",
       "2021-01-01              ...  2691250.0    582066.0  1550919.22  752683.0   \n",
       "2020-01-01              ...   601604.0    266524.0  1151012.00  452367.0   \n",
       "2019-01-01              ...  1472995.0    374691.0  1382208.00       NaN   \n",
       "2018-01-01              ...   460403.0    273671.0   702891.00       NaN   \n",
       "2017-01-01              ...   601604.0    266524.0  1151012.00       NaN   \n",
       "\n",
       "Doanh nghiệp\n",
       "Companies       VASS  Bảo lãnh Seoul       HDI         Tổng  \\\n",
       "2021-01-01               964642.0         28374.0  263699.6  57878584.56   \n",
       "2020-01-01              2573375.0         25243.0       NaN  41344055.00   \n",
       "2019-01-01              2732075.0         29134.0       NaN  52842223.00   \n",
       "2018-01-01              1978726.0         27200.0       NaN  36996712.00   \n",
       "2017-01-01              2573375.0         25243.0       NaN  41344055.00   \n",
       "\n",
       "Doanh nghiệp\n",
       "Companies  OPES      BVTM  \n",
       "2021-01-01               NaN       NaN  \n",
       "2020-01-01               0.0       NaN  \n",
       "2019-01-01               NaN  643854.0  \n",
       "2018-01-01               NaN  421195.0  \n",
       "2017-01-01               NaN  452367.0  \n",
       "\n",
       "[5 rows x 34 columns]"
      ]
     },
     "execution_count": 14,
     "metadata": {},
     "output_type": "execute_result"
    }
   ],
   "source": [
    "insur_revenue"
   ]
  },
  {
   "cell_type": "code",
   "execution_count": 15,
   "metadata": {},
   "outputs": [
    {
     "data": {
      "text/plain": [
       "<Axes: >"
      ]
     },
     "execution_count": 15,
     "metadata": {},
     "output_type": "execute_result"
    },
    {
     "data": {
      "image/png": "[encoded data removed]",
      "text/plain": [
       "<Figure size 640x480 with 1 Axes>"
      ]
     },
     "metadata": {},
     "output_type": "display_data"
    }
   ],
   "source": [
    "insur_revenue['Chubb'].plot(kind='bar')"
   ]
  },
  {
   "cell_type": "code",
   "execution_count": 19,
   "metadata": {},
   "outputs": [
    {
     "data": {
      "text/plain": [
       "Index(['AAA', 'ABIC', 'AIG', 'BHV', 'BIC', 'BSH', 'BVTM', 'Bảo Long',\n",
       "       'Bảo Minh', 'Bảo Việt', 'Bảo lãnh Seoul', 'Cathay', 'Chubb', 'Fubon',\n",
       "       'GIC', 'Groupama', 'HDI', 'Liberty', 'MIC', 'MSIG', 'OPES', 'PJICO',\n",
       "       'PTI', 'PVI', 'Phú Hưng', 'QBE', 'Samsung Vina', 'TMIV', 'Tổng', 'UIC',\n",
       "       'VASS', 'VBI', 'VNI', 'Xuân Thành'],\n",
       "      dtype='object', name='Doanh nghiệp\\nCompanies')"
      ]
     },
     "execution_count": 19,
     "metadata": {},
     "output_type": "execute_result"
    }
   ],
   "source": [
    "insur_revenue.columns.difference(['tổng'])"
   ]
  },
  {
   "cell_type": "code",
   "execution_count": 24,
   "metadata": {},
   "outputs": [
    {
     "data": {
      "application/vnd.plotly.v1+json": {
       "config": {
        "plotlyServerURL": "https://plot.ly"
       },
       "data": [
        {
         "labels": [
          "AAA",
          "ABIC",
          "AIG",
          "BHV",
          "BIC",
          "BSH",
          "BVTM",
          "Bảo Long",
          "Bảo Minh",
          "Bảo Việt",
          "Bảo lãnh Seoul",
          "Cathay",
          "Chubb",
          "Fubon",
          "GIC",
          "Groupama",
          "HDI",
          "Liberty",
          "MIC",
          "MSIG",
          "OPES",
          "PJICO",
          "PTI",
          "PVI",
          "Phú Hưng",
          "QBE",
          "Samsung Vina",
          "TMIV",
          "UIC",
          "VASS",
          "VBI",
          "VNI",
          "Xuân Thành"
         ],
         "type": "pie",
         "values": [
          188750,
          1957311,
          461451,
          119257,
          2678961,
          2691250,
          null,
          1237060,
          4496392,
          8949205,
          28374,
          421363,
          300160,
          597148.8199999998,
          1550919.22,
          0,
          263699.6,
          596724,
          3932263,
          1011580,
          null,
          3344093,
          5836199,
          8291247,
          63925.96,
          177312.96,
          1105223,
          752683,
          793021,
          964642,
          2307358,
          2178945,
          582066
         ]
        }
       ],
       "layout": {
        "template": {
         "data": {
          "bar": [
           {
            "error_x": {
             "color": "#2a3f5f"
            },
            "error_y": {
             "color": "#2a3f5f"
            },
            "marker": {
             "line": {
              "color": "#E5ECF6",
              "width": 0.5
             },
             "pattern": {
              "fillmode": "overlay",
              "size": 10,
              "solidity": 0.2
             }
            },
            "type": "bar"
           }
          ],
          "barpolar": [
           {
            "marker": {
             "line": {
              "color": "#E5ECF6",
              "width": 0.5
             },
             "pattern": {
              "fillmode": "overlay",
              "size": 10,
              "solidity": 0.2
             }
            },
            "type": "barpolar"
           }
          ],
          "carpet": [
           {
            "aaxis": {
             "endlinecolor": "#2a3f5f",
             "gridcolor": "white",
             "linecolor": "white",
             "minorgridcolor": "white",
             "startlinecolor": "#2a3f5f"
            },
            "baxis": {
             "endlinecolor": "#2a3f5f",
             "gridcolor": "white",
             "linecolor": "white",
             "minorgridcolor": "white",
             "startlinecolor": "#2a3f5f"
            },
            "type": "carpet"
           }
          ],
          "choropleth": [
           {
            "colorbar": {
             "outlinewidth": 0,
             "ticks": ""
            },
            "type": "choropleth"
           }
          ],
          "contour": [
           {
            "colorbar": {
             "outlinewidth": 0,
             "ticks": ""
            },
            "colorscale": [
             [
              0,
              "#0d0887"
             ],
             [
              0.1111111111111111,
              "#46039f"
             ],
             [
              0.2222222222222222,
              "#7201a8"
             ],
             [
              0.3333333333333333,
              "#9c179e"
             ],
             [
              0.4444444444444444,
              "#bd3786"
             ],
             [
              0.5555555555555556,
              "#d8576b"
             ],
             [
              0.6666666666666666,
              "#ed7953"
             ],
             [
              0.7777777777777778,
              "#fb9f3a"
             ],
             [
              0.8888888888888888,
              "#fdca26"
             ],
             [
              1,
              "#f0f921"
             ]
            ],
            "type": "contour"
           }
          ],
          "contourcarpet": [
           {
            "colorbar": {
             "outlinewidth": 0,
             "ticks": ""
            },
            "type": "contourcarpet"
           }
          ],
          "heatmap": [
           {
            "colorbar": {
             "outlinewidth": 0,
             "ticks": ""
            },
            "colorscale": [
             [
              0,
              "#0d0887"
             ],
             [
              0.1111111111111111,
              "#46039f"
             ],
             [
              0.2222222222222222,
              "#7201a8"
             ],
             [
              0.3333333333333333,
              "#9c179e"
             ],
             [
              0.4444444444444444,
              "#bd3786"
             ],
             [
              0.5555555555555556,
              "#d8576b"
             ],
             [
              0.6666666666666666,
              "#ed7953"
             ],
             [
              0.7777777777777778,
              "#fb9f3a"
             ],
             [
              0.8888888888888888,
              "#fdca26"
             ],
             [
              1,
              "#f0f921"
             ]
            ],
            "type": "heatmap"
           }
          ],
          "heatmapgl": [
           {
            "colorbar": {
             "outlinewidth": 0,
             "ticks": ""
            },
            "colorscale": [
             [
              0,
              "#0d0887"
             ],
             [
              0.1111111111111111,
              "#46039f"
             ],
             [
              0.2222222222222222,
              "#7201a8"
             ],
             [
              0.3333333333333333,
              "#9c179e"
             ],
             [
              0.4444444444444444,
              "#bd3786"
             ],
             [
              0.5555555555555556,
              "#d8576b"
             ],
             [
              0.6666666666666666,
              "#ed7953"
             ],
             [
              0.7777777777777778,
              "#fb9f3a"
             ],
             [
              0.8888888888888888,
              "#fdca26"
             ],
             [
              1,
              "#f0f921"
             ]
            ],
            "type": "heatmapgl"
           }
          ],
          "histogram": [
           {
            "marker": {
             "pattern": {
              "fillmode": "overlay",
              "size": 10,
              "solidity": 0.2
             }
            },
            "type": "histogram"
           }
          ],
          "histogram2d": [
           {
            "colorbar": {
             "outlinewidth": 0,
             "ticks": ""
            },
            "colorscale": [
             [
              0,
              "#0d0887"
             ],
             [
              0.1111111111111111,
              "#46039f"
             ],
             [
              0.2222222222222222,
              "#7201a8"
             ],
             [
              0.3333333333333333,
              "#9c179e"
             ],
             [
              0.4444444444444444,
              "#bd3786"
             ],
             [
              0.5555555555555556,
              "#d8576b"
             ],
             [
              0.6666666666666666,
              "#ed7953"
             ],
             [
              0.7777777777777778,
              "#fb9f3a"
             ],
             [
              0.8888888888888888,
              "#fdca26"
             ],
             [
              1,
              "#f0f921"
             ]
            ],
            "type": "histogram2d"
           }
          ],
          "histogram2dcontour": [
           {
            "colorbar": {
             "outlinewidth": 0,
             "ticks": ""
            },
            "colorscale": [
             [
              0,
              "#0d0887"
             ],
             [
              0.1111111111111111,
              "#46039f"
             ],
             [
              0.2222222222222222,
              "#7201a8"
             ],
             [
              0.3333333333333333,
              "#9c179e"
             ],
             [
              0.4444444444444444,
              "#bd3786"
             ],
             [
              0.5555555555555556,
              "#d8576b"
             ],
             [
              0.6666666666666666,
              "#ed7953"
             ],
             [
              0.7777777777777778,
              "#fb9f3a"
             ],
             [
              0.8888888888888888,
              "#fdca26"
             ],
             [
              1,
              "#f0f921"
             ]
            ],
            "type": "histogram2dcontour"
           }
          ],
          "mesh3d": [
           {
            "colorbar": {
             "outlinewidth": 0,
             "ticks": ""
            },
            "type": "mesh3d"
           }
          ],
          "parcoords": [
           {
            "line": {
             "colorbar": {
              "outlinewidth": 0,
              "ticks": ""
             }
            },
            "type": "parcoords"
           }
          ],
          "pie": [
           {
            "automargin": true,
            "type": "pie"
           }
          ],
          "scatter": [
           {
            "fillpattern": {
             "fillmode": "overlay",
             "size": 10,
             "solidity": 0.2
            },
            "type": "scatter"
           }
          ],
          "scatter3d": [
           {
            "line": {
             "colorbar": {
              "outlinewidth": 0,
              "ticks": ""
             }
            },
            "marker": {
             "colorbar": {
              "outlinewidth": 0,
              "ticks": ""
             }
            },
            "type": "scatter3d"
           }
          ],
          "scattercarpet": [
           {
            "marker": {
             "colorbar": {
              "outlinewidth": 0,
              "ticks": ""
             }
            },
            "type": "scattercarpet"
           }
          ],
          "scattergeo": [
           {
            "marker": {
             "colorbar": {
              "outlinewidth": 0,
              "ticks": ""
             }
            },
            "type": "scattergeo"
           }
          ],
          "scattergl": [
           {
            "marker": {
             "colorbar": {
              "outlinewidth": 0,
              "ticks": ""
             }
            },
            "type": "scattergl"
           }
          ],
          "scattermapbox": [
           {
            "marker": {
             "colorbar": {
              "outlinewidth": 0,
              "ticks": ""
             }
            },
            "type": "scattermapbox"
           }
          ],
          "scatterpolar": [
           {
            "marker": {
             "colorbar": {
              "outlinewidth": 0,
              "ticks": ""
             }
            },
            "type": "scatterpolar"
           }
          ],
          "scatterpolargl": [
           {
            "marker": {
             "colorbar": {
              "outlinewidth": 0,
              "ticks": ""
             }
            },
            "type": "scatterpolargl"
           }
          ],
          "scatterternary": [
           {
            "marker": {
             "colorbar": {
              "outlinewidth": 0,
              "ticks": ""
             }
            },
            "type": "scatterternary"
           }
          ],
          "surface": [
           {
            "colorbar": {
             "outlinewidth": 0,
             "ticks": ""
            },
            "colorscale": [
             [
              0,
              "#0d0887"
             ],
             [
              0.1111111111111111,
              "#46039f"
             ],
             [
              0.2222222222222222,
              "#7201a8"
             ],
             [
              0.3333333333333333,
              "#9c179e"
             ],
             [
              0.4444444444444444,
              "#bd3786"
             ],
             [
              0.5555555555555556,
              "#d8576b"
             ],
             [
              0.6666666666666666,
              "#ed7953"
             ],
             [
              0.7777777777777778,
              "#fb9f3a"
             ],
             [
              0.8888888888888888,
              "#fdca26"
             ],
             [
              1,
              "#f0f921"
             ]
            ],
            "type": "surface"
           }
          ],
          "table": [
           {
            "cells": {
             "fill": {
              "color": "#EBF0F8"
             },
             "line": {
              "color": "white"
             }
            },
            "header": {
             "fill": {
              "color": "#C8D4E3"
             },
             "line": {
              "color": "white"
             }
            },
            "type": "table"
           }
          ]
         },
         "layout": {
          "annotationdefaults": {
           "arrowcolor": "#2a3f5f",
           "arrowhead": 0,
           "arrowwidth": 1
          },
          "autotypenumbers": "strict",
          "coloraxis": {
           "colorbar": {
            "outlinewidth": 0,
            "ticks": ""
           }
          },
          "colorscale": {
           "diverging": [
            [
             0,
             "#8e0152"
            ],
            [
             0.1,
             "#c51b7d"
            ],
            [
             0.2,
             "#de77ae"
            ],
            [
             0.3,
             "#f1b6da"
            ],
            [
             0.4,
             "#fde0ef"
            ],
            [
             0.5,
             "#f7f7f7"
            ],
            [
             0.6,
             "#e6f5d0"
            ],
            [
             0.7,
             "#b8e186"
            ],
            [
             0.8,
             "#7fbc41"
            ],
            [
             0.9,
             "#4d9221"
            ],
            [
             1,
             "#276419"
            ]
           ],
           "sequential": [
            [
             0,
             "#0d0887"
            ],
            [
             0.1111111111111111,
             "#46039f"
            ],
            [
             0.2222222222222222,
             "#7201a8"
            ],
            [
             0.3333333333333333,
             "#9c179e"
            ],
            [
             0.4444444444444444,
             "#bd3786"
            ],
            [
             0.5555555555555556,
             "#d8576b"
            ],
            [
             0.6666666666666666,
             "#ed7953"
            ],
            [
             0.7777777777777778,
             "#fb9f3a"
            ],
            [
             0.8888888888888888,
             "#fdca26"
            ],
            [
             1,
             "#f0f921"
            ]
           ],
           "sequentialminus": [
            [
             0,
             "#0d0887"
            ],
            [
             0.1111111111111111,
             "#46039f"
            ],
            [
             0.2222222222222222,
             "#7201a8"
            ],
            [
             0.3333333333333333,
             "#9c179e"
            ],
            [
             0.4444444444444444,
             "#bd3786"
            ],
            [
             0.5555555555555556,
             "#d8576b"
            ],
            [
             0.6666666666666666,
             "#ed7953"
            ],
            [
             0.7777777777777778,
             "#fb9f3a"
            ],
            [
             0.8888888888888888,
             "#fdca26"
            ],
            [
             1,
             "#f0f921"
            ]
           ]
          },
          "colorway": [
           "#636efa",
           "#EF553B",
           "#00cc96",
           "#ab63fa",
           "#FFA15A",
           "#19d3f3",
           "#FF6692",
           "#B6E880",
           "#FF97FF",
           "#FECB52"
          ],
          "font": {
           "color": "#2a3f5f"
          },
          "geo": {
           "bgcolor": "white",
           "lakecolor": "white",
           "landcolor": "#E5ECF6",
           "showlakes": true,
           "showland": true,
           "subunitcolor": "white"
          },
          "hoverlabel": {
           "align": "left"
          },
          "hovermode": "closest",
          "mapbox": {
           "style": "light"
          },
          "paper_bgcolor": "white",
          "plot_bgcolor": "#E5ECF6",
          "polar": {
           "angularaxis": {
            "gridcolor": "white",
            "linecolor": "white",
            "ticks": ""
           },
           "bgcolor": "#E5ECF6",
           "radialaxis": {
            "gridcolor": "white",
            "linecolor": "white",
            "ticks": ""
           }
          },
          "scene": {
           "xaxis": {
            "backgroundcolor": "#E5ECF6",
            "gridcolor": "white",
            "gridwidth": 2,
            "linecolor": "white",
            "showbackground": true,
            "ticks": "",
            "zerolinecolor": "white"
           },
           "yaxis": {
            "backgroundcolor": "#E5ECF6",
            "gridcolor": "white",
            "gridwidth": 2,
            "linecolor": "white",
            "showbackground": true,
            "ticks": "",
            "zerolinecolor": "white"
           },
           "zaxis": {
            "backgroundcolor": "#E5ECF6",
            "gridcolor": "white",
            "gridwidth": 2,
            "linecolor": "white",
            "showbackground": true,
            "ticks": "",
            "zerolinecolor": "white"
           }
          },
          "shapedefaults": {
           "line": {
            "color": "#2a3f5f"
           }
          },
          "ternary": {
           "aaxis": {
            "gridcolor": "white",
            "linecolor": "white",
            "ticks": ""
           },
           "baxis": {
            "gridcolor": "white",
            "linecolor": "white",
            "ticks": ""
           },
           "bgcolor": "#E5ECF6",
           "caxis": {
            "gridcolor": "white",
            "linecolor": "white",
            "ticks": ""
           }
          },
          "title": {
           "x": 0.05
          },
          "xaxis": {
           "automargin": true,
           "gridcolor": "white",
           "linecolor": "white",
           "ticks": "",
           "title": {
            "standoff": 15
           },
           "zerolinecolor": "white",
           "zerolinewidth": 2
          },
          "yaxis": {
           "automargin": true,
           "gridcolor": "white",
           "linecolor": "white",
           "ticks": "",
           "title": {
            "standoff": 15
           },
           "zerolinecolor": "white",
           "zerolinewidth": 2
          }
         }
        },
        "title": {
         "text": "Doanh thu phí bảo hiểm gốc\nDirect premium\n"
        }
       }
      }
     },
     "metadata": {},
     "output_type": "display_data"
    }
   ],
   "source": [
    "import plotly.graph_objects as go\n",
    "\n",
    "\n",
    "# Create the pie chart\n",
    "fig = go.Figure(data=[go.Pie(labels=insur_revenue.columns.difference(['Tổng']), values=insur_revenue.iloc[0,:][insur_revenue.columns.difference(['Tổng'])].values)])\n",
    "\n",
    "# Customize layout\n",
    "fig.update_layout(title='Doanh thu phí bảo hiểm gốc\\nDirect premium\\n')\n",
    "\n",
    "# Show the chart\n",
    "fig.show()\n"
   ]
  },
  {
   "cell_type": "code",
   "execution_count": null,
   "metadata": {},
   "outputs": [],
   "source": []
  }
 ],
 "metadata": {
  "kernelspec": {
   "display_name": "VNQuant",
   "language": "python",
   "name": "python3"
  },
  "language_info": {
   "codemirror_mode": {
    "name": "ipython",
    "version": 3
   },
   "file_extension": ".py",
   "mimetype": "text/x-python",
   "name": "python",
   "nbconvert_exporter": "python",
   "pygments_lexer": "ipython3",
   "version": "3.10.13"
  }
 },
 "nbformat": 4,
 "nbformat_minor": 2
}
