{
 "cells": [
  {
   "cell_type": "code",
   "execution_count": 2,
   "metadata": {},
   "outputs": [],
   "source": [
    "from vnins import *"
   ]
  },
  {
   "cell_type": "markdown",
   "metadata": {},
   "source": [
    "The number of claims in a period has a Poisson distribution with a mean of 3. Each claim amount follows a distribution such that Pr(X=x)=0.25 for x=1,2,3,4.\n",
    "\n",
    "The number of claims and the claim amounts are independent. S is the aggregate claim amount for that period.\n",
    "\n",
    "Calculate Pr(S=3)."
   ]
  },
  {
   "cell_type": "code",
   "execution_count": 3,
   "metadata": {},
   "outputs": [
    {
     "name": "stdout",
     "output_type": "stream",
     "text": [
      "Probability:  0.109169\n"
     ]
    }
   ],
   "source": [
    "n=random_uniform_discrete(1,4,1000000)\n",
    "res=[]\n",
    "for i in n:\n",
    "    res.append(np.sum(random_poisson(3,i)))\n",
    "res=np.array(res)\n",
    "print('Probability: ',len(res[res==3])/len(res))"
   ]
  },
  {
   "cell_type": "markdown",
   "metadata": {},
   "source": [
    "For an insured car, you are given:\n",
    "\n",
    "- The number of accidents per year has the following probability function:\n",
    "    \n",
    "    $$\n",
    "    \\Pr\\!\\left(N=n\\right) = \\!\\binom{2}{n}{0.2}^n\\left(0.8\\right)^{2-n}, \\qquad n=0,\\, 1,\\, 2\n",
    "    $$\n",
    "    \n",
    "- The damage per accident follows a normal distribution with mean 180 and standard deviation 100.\n",
    "- The number of accidents and the damage per accident are mutually independent.\n",
    "\n",
    "Determine the probability that the car has at most 200 in damages this year."
   ]
  },
  {
   "cell_type": "code",
   "execution_count": 4,
   "metadata": {},
   "outputs": [
    {
     "name": "stdout",
     "output_type": "stream",
     "text": [
      "Probability:  0.829972\n"
     ]
    }
   ],
   "source": [
    "n=random_binomial(2,0.2,1000000)\n",
    "res=[]\n",
    "for i in n:\n",
    "    res.append(np.sum(random_normal(180,100,i)))\n",
    "res=np.array(res)\n",
    "print('Probability: ',len(res[res<=200])/len(res))"
   ]
  }
 ],
 "metadata": {
  "kernelspec": {
   "display_name": "VNQuant",
   "language": "python",
   "name": "python3"
  },
  "language_info": {
   "codemirror_mode": {
    "name": "ipython",
    "version": 3
   },
   "file_extension": ".py",
   "mimetype": "text/x-python",
   "name": "python",
   "nbconvert_exporter": "python",
   "pygments_lexer": "ipython3",
   "version": "3.10.13"
  }
 },
 "nbformat": 4,
 "nbformat_minor": 2
}
