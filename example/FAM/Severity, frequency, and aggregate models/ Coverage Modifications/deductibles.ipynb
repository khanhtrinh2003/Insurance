{
 "cells": [
  {
   "cell_type": "code",
   "execution_count": 1,
   "metadata": {},
   "outputs": [],
   "source": [
    "from vnins import *"
   ]
  },
  {
   "cell_type": "markdown",
   "metadata": {},
   "source": [
    "For an insurance policy:\n",
    "\n",
    "- Losses follow an exponential distribution with mean 500.\n",
    "- The policy has an ordinary deductible of 100 per loss.\n",
    "\n",
    "Calculate the expected insurance payment per loss."
   ]
  },
  {
   "cell_type": "code",
   "execution_count": 3,
   "metadata": {},
   "outputs": [
    {
     "name": "stdout",
     "output_type": "stream",
     "text": [
      "Expected insurance payment per loss:  409.3487889168074\n"
     ]
    }
   ],
   "source": [
    "loss=random_exponential(500,10000000)\n",
    "print(\"Expected insurance payment per loss: \",np.mean(insurer_ordinary_deductibles(loss,100)))"
   ]
  },
  {
   "cell_type": "markdown",
   "metadata": {},
   "source": [
    "In the year 2017, claim amounts have the density function\n",
    "\n",
    "$$\n",
    "f\\!\\left(x\\right) = \\dfrac{1}{10}, \\qquad 0<x<10\n",
    "$$\n",
    "\n",
    "In 2018, assume claims will follow the same distribution and an ordinary deductible of 2 will be implemented.\n",
    "\n",
    "Calculate the loss elimination ratio in 2018."
   ]
  },
  {
   "cell_type": "code",
   "execution_count": 12,
   "metadata": {},
   "outputs": [
    {
     "name": "stdout",
     "output_type": "stream",
     "text": [
      "loss elimination ratio  0.3601344914491284\n"
     ]
    }
   ],
   "source": [
    "loss=random_uniform(0,10,10000000)\n",
    "print(\"loss elimination ratio \",ler(loss,2))"
   ]
  },
  {
   "cell_type": "markdown",
   "metadata": {},
   "source": [
    "For an insurance policy:\n",
    "\n",
    "- Losses follow an exponential distribution with mean 500.\n",
    "- The policy has an ordinary deductible of 100 per loss.\n",
    "- $Y^P$ is the claim payment per payment random variable.\n",
    "\n",
    "Calculate $Var[Y^P]$."
   ]
  },
  {
   "cell_type": "code",
   "execution_count": 14,
   "metadata": {},
   "outputs": [
    {
     "name": "stdout",
     "output_type": "stream",
     "text": [
      "var yP:  250483.50014729702\n"
     ]
    }
   ],
   "source": [
    "loss=random_exponential(500,1000000)\n",
    "yP=payment_per_payment(loss,100)\n",
    "print('var yP: ', np.var(yP))"
   ]
  },
  {
   "cell_type": "markdown",
   "metadata": {},
   "source": [
    "Loss amounts have a distribution with survival function\n",
    "\n",
    "$$\n",
    "S\\!\\left(x\\right) = \\sqrt{\\left(\\dfrac{100}{x+100}\\right)^{\\!5}}, \\qquad x>0\n",
    "$$\n",
    "\n",
    "An insurance coverage for these losses has a franchise deductible of 50.\n",
    "\n",
    "Calculate the expected payment per payment."
   ]
  },
  {
   "cell_type": "code",
   "execution_count": 2,
   "metadata": {},
   "outputs": [
    {
     "name": "stdout",
     "output_type": "stream",
     "text": [
      "expected yP:  149.60766481268686\n"
     ]
    }
   ],
   "source": [
    "loss=random_pareto(2.5,100,1000000)\n",
    "yL=insurer_franchise_deductibles(loss,50)\n",
    "yP=yL[yL>0]\n",
    "print('expected yP: ', np.mean(yP))"
   ]
  }
 ],
 "metadata": {
  "kernelspec": {
   "display_name": "VNQuant",
   "language": "python",
   "name": "python3"
  },
  "language_info": {
   "codemirror_mode": {
    "name": "ipython",
    "version": 3
   },
   "file_extension": ".py",
   "mimetype": "text/x-python",
   "name": "python",
   "nbconvert_exporter": "python",
   "pygments_lexer": "ipython3",
   "version": "3.10.13"
  }
 },
 "nbformat": 4,
 "nbformat_minor": 2
}
