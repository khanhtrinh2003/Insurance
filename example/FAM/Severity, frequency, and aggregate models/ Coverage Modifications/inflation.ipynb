{
 "cells": [
  {
   "cell_type": "code",
   "execution_count": 1,
   "metadata": {},
   "outputs": [],
   "source": [
    "from vnins import *"
   ]
  },
  {
   "cell_type": "markdown",
   "metadata": {},
   "source": [
    "This year, losses follow a single-parameter Pareto distribution with the following PDF:\n",
    "\n",
    "$$\n",
    "f\\!\\left(x\\right) = \\dfrac{20{,}000}{x^3}, \\qquad x>100\n",
    "$$\n",
    "\n",
    "Individual losses increase 10% each year due to inflation.\n",
    "\n",
    "An insurance policy has a policy limit of 220.\n",
    "\n",
    "Calculate the expected insurance payment next year."
   ]
  },
  {
   "cell_type": "code",
   "execution_count": 4,
   "metadata": {},
   "outputs": [
    {
     "name": "stdout",
     "output_type": "stream",
     "text": [
      "expected insurance payment:  164.97889340700067\n"
     ]
    }
   ],
   "source": [
    "loss=random_sp_pareto(2,100,1000000)\n",
    "print(\"expected insurance payment: \",np.mean(insurer_policy_limit(1.1*loss,220)))"
   ]
  }
 ],
 "metadata": {
  "kernelspec": {
   "display_name": "VNQuant",
   "language": "python",
   "name": "python3"
  },
  "language_info": {
   "codemirror_mode": {
    "name": "ipython",
    "version": 3
   },
   "file_extension": ".py",
   "mimetype": "text/x-python",
   "name": "python",
   "nbconvert_exporter": "python",
   "pygments_lexer": "ipython3",
   "version": "3.10.13"
  }
 },
 "nbformat": 4,
 "nbformat_minor": 2
}
