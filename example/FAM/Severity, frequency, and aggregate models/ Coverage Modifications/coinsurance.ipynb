{
 "cells": [
  {
   "cell_type": "code",
   "execution_count": 1,
   "metadata": {},
   "outputs": [],
   "source": [
    "from vnins import *"
   ]
  },
  {
   "cell_type": "markdown",
   "metadata": {},
   "source": [
    "Losses follow an exponential distribution with mean 1,000.\n",
    "\n",
    "For an insurance policy:\n",
    "\n",
    "- Each claim is subject to an ordinary deductible of 200.\n",
    "- The policy will reimburse 80% of the claims in excess of 200.\n",
    "- The insurance payment is capped at 2,000.\n",
    "\n",
    "Calculate the expected payment per loss."
   ]
  },
  {
   "cell_type": "code",
   "execution_count": 5,
   "metadata": {},
   "outputs": [
    {
     "name": "stdout",
     "output_type": "stream",
     "text": [
      "expected payment per loss  601.1102818838243\n"
     ]
    }
   ],
   "source": [
    "loss=random_exponential(1000,10000000)\n",
    "print(\"expected payment per loss \",np.mean(insurer_policy_limit((insurer_coinsurance(insurer_ordinary_deductibles(loss,200),0.8)),2000)))"
   ]
  },
  {
   "cell_type": "markdown",
   "metadata": {},
   "source": [
    "Losses follow a gamma distribution with parameters $\\alpha=2$ and $\\theta=100$.\n",
    "\n",
    "An insurance policy covers the loss with a policy limit of 250. The insurance company is offering an alternative coverage to replace the policy limit with coinsurance $c$, which is the proportion of the loss paid by the insurance company, such that the expected insurance cost remains the same.\n",
    "\n",
    "Calculate $c$."
   ]
  },
  {
   "cell_type": "markdown",
   "metadata": {},
   "source": []
  },
  {
   "cell_type": "markdown",
   "metadata": {},
   "source": [
    "An insurance company will provide a financial incentive to its insurance agents if the total incurred losses for the year are less than 500.\n",
    "\n",
    "The bonus will be 15% of the amount by which the total incurred losses are under 500.\n",
    "\n",
    "The total losses in a year follow a Pareto distribution with parameters $\\alpha=3$ and $\\theta=400$.\n",
    "\n",
    "Calculate the expected bonus."
   ]
  },
  {
   "cell_type": "markdown",
   "metadata": {},
   "source": []
  }
 ],
 "metadata": {
  "kernelspec": {
   "display_name": "VNQuant",
   "language": "python",
   "name": "python3"
  },
  "language_info": {
   "codemirror_mode": {
    "name": "ipython",
    "version": 3
   },
   "file_extension": ".py",
   "mimetype": "text/x-python",
   "name": "python",
   "nbconvert_exporter": "python",
   "pygments_lexer": "ipython3",
   "version": "3.10.13"
  }
 },
 "nbformat": 4,
 "nbformat_minor": 2
}
