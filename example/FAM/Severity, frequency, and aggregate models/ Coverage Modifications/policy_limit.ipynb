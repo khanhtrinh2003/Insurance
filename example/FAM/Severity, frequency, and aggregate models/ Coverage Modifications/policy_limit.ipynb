{
 "cells": [
  {
   "cell_type": "code",
   "execution_count": 1,
   "metadata": {},
   "outputs": [],
   "source": [
    "from vnins import *"
   ]
  },
  {
   "cell_type": "markdown",
   "metadata": {},
   "source": [
    "Claim size for a medical insurance policy follows a Pareto distribution with parameters $\\alpha=5$ and $\\theta=1,000$.\n",
    "\n",
    "The medical insurance has a policy limit of 500.\n",
    "\n",
    "Calculate the expected insurance payment for a claim."
   ]
  },
  {
   "cell_type": "code",
   "execution_count": 5,
   "metadata": {},
   "outputs": [
    {
     "name": "stdout",
     "output_type": "stream",
     "text": [
      "Expected payment for a claim;  200.6810266134862\n"
     ]
    }
   ],
   "source": [
    "claim_size=random_pareto(5,1000,10000000)\n",
    "print(\"Expected payment for a claim; \",np.mean(insurer_policy_limit(claim_size,500)))"
   ]
  },
  {
   "cell_type": "markdown",
   "metadata": {},
   "source": [
    "Claim size for a medical insurance policy follows a Pareto distribution with parameters $\\alpha=5$ and $\\theta=1,000$.\n",
    "\n",
    "The insurance company considers raising that policy's limit from 500 to 800.\n",
    "\n",
    "Determine the increased limit factor for a claim."
   ]
  },
  {
   "cell_type": "code",
   "execution_count": 6,
   "metadata": {},
   "outputs": [
    {
     "name": "stdout",
     "output_type": "stream",
     "text": [
      "increased limit factor for a claim  1.1272887737601591\n"
     ]
    }
   ],
   "source": [
    "claim_size=random_pareto(5,1000,10000000)\n",
    "print(\"increased limit factor for a claim \",ilf(claim_size,800,500))"
   ]
  }
 ],
 "metadata": {
  "kernelspec": {
   "display_name": "VNQuant",
   "language": "python",
   "name": "python3"
  },
  "language_info": {
   "codemirror_mode": {
    "name": "ipython",
    "version": 3
   },
   "file_extension": ".py",
   "mimetype": "text/x-python",
   "name": "python",
   "nbconvert_exporter": "python",
   "pygments_lexer": "ipython3",
   "version": "3.10.13"
  }
 },
 "nbformat": 4,
 "nbformat_minor": 2
}
