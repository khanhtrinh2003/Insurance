{
 "cells": [
  {
   "cell_type": "code",
   "execution_count": 165,
   "metadata": {},
   "outputs": [],
   "source": [
    "import pandas as pd\n",
    "import matplotlib.pyplot as plt\n",
    "from db_function import *"
   ]
  },
  {
   "cell_type": "code",
   "execution_count": 166,
   "metadata": {},
   "outputs": [],
   "source": [
    "db=My_db(sqlite3.connect('insurance.db'))"
   ]
  },
  {
   "cell_type": "code",
   "execution_count": 167,
   "metadata": {},
   "outputs": [
    {
     "name": "stderr",
     "output_type": "stream",
     "text": [
      "/var/folders/37/b_ywzpxn743gl8js4stkcm4m0000gn/T/ipykernel_15646/570707782.py:5: UserWarning: Could not infer format, so each element will be parsed individually, falling back to `dateutil`. To ensure parsing is consistent and as-expected, please specify a format.\n",
      "  ins.index=pd.to_datetime(ins.index)\n",
      "/var/folders/37/b_ywzpxn743gl8js4stkcm4m0000gn/T/ipykernel_15646/570707782.py:6: UserWarning: Could not infer format, so each element will be parsed individually, falling back to `dateutil`. To ensure parsing is consistent and as-expected, please specify a format.\n",
      "  ba.index=pd.to_datetime(ba.index)\n",
      "/var/folders/37/b_ywzpxn743gl8js4stkcm4m0000gn/T/ipykernel_15646/570707782.py:7: UserWarning: Could not infer format, so each element will be parsed individually, falling back to `dateutil`. To ensure parsing is consistent and as-expected, please specify a format.\n",
      "  cf.index=pd.to_datetime(cf.index)\n"
     ]
    }
   ],
   "source": [
    "ins=db.read_data('incomestatement')\n",
    "ba=db.read_data('balancesheet')\n",
    "cf=db.read_data('cashflow')\n",
    "\n",
    "ins.index=pd.to_datetime(ins.index)\n",
    "ba.index=pd.to_datetime(ba.index)\n",
    "cf.index=pd.to_datetime(cf.index)"
   ]
  },
  {
   "cell_type": "code",
   "execution_count": 168,
   "metadata": {},
   "outputs": [],
   "source": [
    "ticker='PTI'"
   ]
  },
  {
   "cell_type": "markdown",
   "metadata": {},
   "source": [
    "# Solvency ratio"
   ]
  },
  {
   "cell_type": "markdown",
   "metadata": {},
   "source": [
    "Công thức cho non-life: Logarit tự nhiên của (Tổng tài sản - Tổng nợ)"
   ]
  },
  {
   "cell_type": "code",
   "execution_count": 169,
   "metadata": {},
   "outputs": [
    {
     "data": {
      "text/plain": [
       "Text(0.5, 1.0, 'PTI')"
      ]
     },
     "execution_count": 169,
     "metadata": {},
     "output_type": "execute_result"
    },
    {
     "data": {
      "image/png": "[encoded data removed]",
      "text/plain": [
       "<Figure size 640x480 with 1 Axes>"
      ]
     },
     "metadata": {},
     "output_type": "display_data"
    }
   ],
   "source": [
    "solvency_ratio =np.log(ba[ba['ticker']==ticker]['asset']-ba[ba['ticker']==ticker]['debt'])\n",
    "plt.plot(solvency_ratio)\n",
    "plt.title(ticker)"
   ]
  },
  {
   "cell_type": "markdown",
   "metadata": {},
   "source": [
    "# Combined ratio"
   ]
  },
  {
   "cell_type": "markdown",
   "metadata": {},
   "source": [
    "Chỉ tiêu tỷ lệ kết hợp (Combined ratio): Chỉ tiêu này đánh giá mức độ lãi/lỗ hoạt động kinh doanh bảo hiểm của doanh nghiệp.\n",
    "- x = Tỷ lệ bồi thường (x1) + Tỷ lệ chi phí hoạt động kinh doanh bảo hiểm (x2)\n",
    "    - Trong đó:\n",
    "        - x1 =Tổng chi bồi thường bảo hiểm thuộc trách nhiệm giữ lại (A)/Doanh thu phí bảo hiểm thuần (B)\n",
    "        - x2=Tổng chi phí hoạt động kinh doanh (C) / Doanh thu phí bảo hiểm thuần (B)\n"
   ]
  },
  {
   "cell_type": "code",
   "execution_count": 170,
   "metadata": {},
   "outputs": [],
   "source": [
    "s6_21=db.read_data('s6_21')\n",
    "s6_20=db.read_data('s6_20')\n",
    "s6_19=db.read_data('s6_19')\n",
    "s6_18=db.read_data('s6_18')\n",
    "s6_17=db.read_data('s6_17')"
   ]
  },
  {
   "cell_type": "code",
   "execution_count": 171,
   "metadata": {},
   "outputs": [],
   "source": [
    "s3_21=db.read_data('s3_21')\n",
    "s3_20=db.read_data('s3_20')\n",
    "s3_19=db.read_data('s3_19')\n",
    "s3_18=db.read_data('s3_18')\n",
    "s3_17=db.read_data('s3_17')"
   ]
  },
  {
   "cell_type": "markdown",
   "metadata": {},
   "source": [
    "Tinh x1"
   ]
  },
  {
   "cell_type": "code",
   "execution_count": 172,
   "metadata": {},
   "outputs": [],
   "source": [
    "s6_tick=pd.concat([s6_21[s6_21.index==ticker],\n",
    "           s6_20[s6_20.index==ticker],\n",
    "           s6_19[s6_19.index==ticker],\n",
    "           s6_18[s6_18.index==ticker],\n",
    "           s6_17[s6_17.index==ticker]])\n",
    "s6_tick.index=[f'{i}-01-01' for i in range(2021,2016,-1)]"
   ]
  },
  {
   "cell_type": "code",
   "execution_count": 173,
   "metadata": {},
   "outputs": [],
   "source": [
    "s3_tick=pd.concat([s3_21[s3_21.index==ticker],\n",
    "           s3_20[s3_20.index==ticker],\n",
    "           s3_19[s3_19.index==ticker],\n",
    "           s3_18[s3_18.index==ticker],\n",
    "           s3_17[s3_17.index==ticker]])\n",
    "s3_tick.index=[f'{i}-01-01' for i in range(2021,2016,-1)]"
   ]
  },
  {
   "cell_type": "code",
   "execution_count": 174,
   "metadata": {},
   "outputs": [
    {
     "name": "stderr",
     "output_type": "stream",
     "text": [
      "/var/folders/37/b_ywzpxn743gl8js4stkcm4m0000gn/T/ipykernel_15646/2375720291.py:5: DeprecationWarning: `np.float` is a deprecated alias for the builtin `float`. To silence this warning, use `float` by itself. Doing this will not modify any behavior and is safe. If you specifically wanted the numpy scalar type, use `np.float64` here.\n",
      "Deprecated in NumPy 1.20; for more details and guidance: https://numpy.org/devdocs/release/1.20.0-notes.html#deprecations\n",
      "  return np.float(df['A'])/np.float(df['B'])\n"
     ]
    }
   ],
   "source": [
    "x1=pd.DataFrame(index=s3_tick.index)\n",
    "x1['A']=s6_tick['Bồi thường thuộc trách nhiệm giữ lại\\nNet claims paid'].values\n",
    "x1['B']=s3_tick['Doanh thu phí bảo hiểm gốc\\nDirect premium\\n'].values\n",
    "def get_x1(df):\n",
    "    return np.float(df['A'])/np.float(df['B'])\n",
    "x1['res']=x1.apply(get_x1,axis=1)"
   ]
  },
  {
   "cell_type": "code",
   "execution_count": 175,
   "metadata": {},
   "outputs": [],
   "source": [
    "ins['year']=[i.year for i in ins.index]\n",
    "x2=pd.DataFrame()\n",
    "x2['C']=ins[ins['ticker']==ticker].groupby('year').sum()['operationExpense']"
   ]
  },
  {
   "cell_type": "code",
   "execution_count": 176,
   "metadata": {},
   "outputs": [],
   "source": [
    "x2=x2[(x2.index<=2021)&(x2.index>=2017)].sort_index(ascending=False)\n",
    "x2.index=x1.index\n",
    "x2['res']=x2['C']/x1['B']"
   ]
  },
  {
   "cell_type": "code",
   "execution_count": 178,
   "metadata": {},
   "outputs": [
    {
     "data": {
      "text/plain": [
       "Text(0.5, 1.0, 'PTI')"
      ]
     },
     "execution_count": 178,
     "metadata": {},
     "output_type": "execute_result"
    },
    {
     "data": {
      "image/png": "[encoded data removed]",
      "text/plain": [
       "<Figure size 640x480 with 1 Axes>"
      ]
     },
     "metadata": {},
     "output_type": "display_data"
    }
   ],
   "source": [
    "combined_ratio=((x1['res']+x2['res']).fillna(0))\n",
    "combined_ratio.sort_index().plot(kind='bar')\n",
    "plt.title(ticker)"
   ]
  },
  {
   "cell_type": "code",
   "execution_count": null,
   "metadata": {},
   "outputs": [],
   "source": []
  }
 ],
 "metadata": {
  "kernelspec": {
   "display_name": "VNQuant",
   "language": "python",
   "name": "python3"
  },
  "language_info": {
   "codemirror_mode": {
    "name": "ipython",
    "version": 3
   },
   "file_extension": ".py",
   "mimetype": "text/x-python",
   "name": "python",
   "nbconvert_exporter": "python",
   "pygments_lexer": "ipython3",
   "version": "3.10.13"
  }
 },
 "nbformat": 4,
 "nbformat_minor": 2
}
